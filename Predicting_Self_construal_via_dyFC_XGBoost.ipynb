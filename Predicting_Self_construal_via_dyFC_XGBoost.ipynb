{
 "cells": [
  {
   "cell_type": "markdown",
   "metadata": {},
   "source": [
    "# Experiments on for \"Predicting Individual Independence and Interdependence Orientations Using Dynamic Efficiency of whole-brain functional networks\""
   ]
  },
  {
   "cell_type": "markdown",
   "metadata": {},
   "source": [
    "## Step 1: load data and preprocessing"
   ]
  },
  {
   "cell_type": "code",
   "execution_count": 1,
   "metadata": {
    "scrolled": true
   },
   "outputs": [
    {
     "name": "stdout",
     "output_type": "stream",
     "text": [
      "[ 96.  85.  81.  70.  72.  66.  69.  94.  65.  74.  66.  67.  85.  57.\n",
      "  73.  64.  83.  61.  77.  72.  80.  57.  67.  68.  72.  63.  70.  66.\n",
      "  59.  72.  47.  71.  66.  90.  85.  73.  55.  68.  78.  75.  67.  83.\n",
      "  73.  73.  80.  65.  77.  68.  76.  79.  58.  81.  79.  60.  63.  78.\n",
      "  70.  62.  79.  66.  98.  75.  76.  79.  82.  62.  70.  63.  70.  69.\n",
      "  61.  61.  72.  73.  79.  70.  71.  71.  82.  93.  66.  76.  68.  83.\n",
      "  79.  58.  69.  73.  71.  57.  74.  74.  79.  87.  65.  72.  65.  84.\n",
      "  66.  74.  54.  57.  78.  53.  69.  91.  74.  44.  77.  56.  76.  80.\n",
      "  65.  67.  79.  71.  59.  57.  69.  57.  66.  66.  80.  78.  64.  59.\n",
      "  86.  60.  68.  76.  76.  68.  70.  88.  66.  71.  62.  53.  72.  82.\n",
      "  92.  70.  56.  58.  62.  67.  70.  85.  63.  96.  70.  89.  62.  74.\n",
      " 102.  80.  80.  59.  94.  71.  71.  67.  70.  63.  80.  67.  70.  79.\n",
      "  74.  73.  87.  68.  72.  58.  61.  63.  61.  85.  83.  83.  66.  67.\n",
      "  75.  82.  82.  66.  81.  77.  83.  63.  74.  83.  72.  82.  83.  69.\n",
      "  62.  76.  67.  72.  80.  71.  46.  80.  81.  69.  75.  75.  69.  64.\n",
      "  75.  78.  84.  82.  81.  70.  70.  67.  82.  79.  73.  75.  72.  60.\n",
      "  74.  65.  73.  55.  78.  88.  82.  66.  68.  70.  72.  84.  63.  80.\n",
      "  67.  79.  73.  74.  89.  82.  73. 101.  58.  80.  70.  70.  58.  80.\n",
      "  75.  99.  86.  81.  76.  68.  79.  80.  79.  70.  69.  85.  71.  81.\n",
      "  94.  75.  73.  66.  71.  66.  65.  70.  80.  89.  60.  71.  69.  62.\n",
      "  70.  65.  73.  79.  56.  73.  67.  70.  78.  74.  64.  57.  88.  79.\n",
      "  63.  75.  79.  49.  69.  68.  80.  82.  66.  73.  75.  81.  82.  73.\n",
      "  74.  63.  87.  78.  85.  53.  77.  67.  73.  69.  68.  80.  75.  69.\n",
      "  90.]\n",
      "[ 74.  79.  76.  80.  78.  68.  82.  84.  71.  81.  61.  74.  89.  70.\n",
      "  79.  67.  90.  93.  92.  81.  83.  81.  75.  74.  90.  61.  73.  78.\n",
      "  75.  86.  73.  82.  49.  72.  86.  79.  79.  69.  70.  90.  66.  88.\n",
      "  68.  74.  82.  74.  86.  76.  83.  79.  77.  78.  84.  78.  67.  78.\n",
      "  77.  68.  70.  66.  82.  77.  79.  82.  87.  65.  78.  73.  63.  78.\n",
      "  79.  71.  66.  78.  64.  73.  83.  88.  81.  89.  84.  86.  67.  84.\n",
      "  71.  73.  65.  86.  73.  84.  81.  76.  86.  89.  64.  89.  75.  89.\n",
      "  85.  57.  57.  75.  83.  68.  83.  86.  68.  67.  83.  86.  81.  86.\n",
      "  65.  81.  92.  88.  77.  66.  74.  69.  75.  78.  84.  83.  70.  76.\n",
      "  61.  63.  86.  88.  68.  67.  71.  77.  69.  74.  74.  87.  78.  46.\n",
      "  90.  62. 103.  55.  67.  80.  71.  75.  56.  73.  70.  86.  61.  76.\n",
      "  63.  85.  87.  63.  58.  72.  66.  68.  82.  80.  80.  89.  68.  80.\n",
      "  65.  81.  82.  71.  85.  58.  83.  78.  83.  85.  73.  91.  70.  82.\n",
      "  91.  87.  82.  69.  77.  66.  88.  72.  64.  67.  83.  83.  69.  72.\n",
      "  66.  82.  87.  81.  86.  74.  72.  61.  72.  75.  72.  66.  80.  72.\n",
      "  71.  86.  88.  85.  90.  64.  86.  70.  81.  84.  73.  76.  84.  82.\n",
      "  86.  81.  58.  61.  84.  90.  80.  68.  78.  88.  69.  68.  69.  84.\n",
      "  74.  77.  82.  81.  89.  72.  74.  56.  75.  74.  67.  71.  76.  87.\n",
      "  83.  92.  58.  83.  72.  72.  77.  69.  79.  69.  65.  92.  74.  79.\n",
      "  93.  90.  76.  74.  63.  71.  80.  70.  89.  95.  80.  63.  87.  73.\n",
      "  70.  72.  87.  67.  74.  85.  60.  70.  63.  71.  81.  87.  75.  97.\n",
      "  71.  66.  92.  84.  76.  71.  85.  81.  74.  75.  83.  80.  77.  77.\n",
      "  74.  58.  82.  99.  79.  72.  68.  61.  87.  67.  81.  74.  87.  81.\n",
      "  54.]\n",
      "(323,)\n",
      "(323,)\n",
      "(323, 30135)\n",
      "[0.96652137 0.96443776 0.9672902  ... 0.70287439 0.7124191  0.94156847]\n",
      "80.0\n",
      "83.0\n",
      "data loaded.\n"
     ]
    }
   ],
   "source": [
    "import numpy as np\n",
    "import pickle\n",
    "import pandas as pd\n",
    "import datetime\n",
    "import json\n",
    "import scipy.stats\n",
    "import random\n",
    "from sklearn.svm import SVC\n",
    "from sklearn.linear_model import Lasso\n",
    "from sklearn.model_selection import GridSearchCV, cross_val_score, KFold, cross_val_predict\n",
    "from sklearn.feature_selection import f_regression, mutual_info_regression, RFE, SelectPercentile, SelectKBest\n",
    "from sklearn.linear_model import Ridge, Lasso\n",
    "from sklearn.metrics import mean_squared_error,mean_absolute_error\n",
    "from sklearn.utils import shuffle\n",
    "from sklearn.svm import SVR\n",
    "from sklearn.kernel_ridge import KernelRidge\n",
    "import xgboost as xgb\n",
    "from xgboost.sklearn import XGBRegressor\n",
    "import matplotlib.pyplot as plt\n",
    "import seaborn as sns\n",
    "\n",
    "#Load dataset\n",
    "fmri_data = pickle.load(open('./vec_dynamic_fmri.pickle','rb'))\n",
    "cog_inde = pickle.load(open('./label_inde.pickle','rb'))\n",
    "cog_inter = pickle.load(open('./label_inter.pickle','rb'))\n",
    "cog_D=cog_inde - cog_inter\n",
    "print(cog_inde)\n",
    "print(cog_inter)\n",
    "print(cog_D.shape)\n",
    "print(cog_inde.shape)\n",
    "print(fmri_data.shape)\n",
    "\n",
    "print(fmri_data[15])\n",
    "print(cog_inde[20])\n",
    "print(cog_inter[20])\n",
    "\n",
    "print('data loaded.')"
   ]
  },
  {
   "cell_type": "code",
   "execution_count": 2,
   "metadata": {},
   "outputs": [
    {
     "name": "stdout",
     "output_type": "stream",
     "text": [
      "(323, 30135)\n",
      "features merged.\n",
      "[[ 0.8528905   0.89276797  0.724996   ...  0.8321411   0.93881816\n",
      "   0.76340616]\n",
      " [ 0.6478197  -0.18357994  0.29073936 ...  0.02391877  0.8688775\n",
      "   0.8145472 ]\n",
      " [ 0.9955504   0.8980978   0.91329795 ...  0.94610184  0.942119\n",
      "   0.98462105]\n",
      " ...\n",
      " [ 0.6962368   0.39618877 -0.30794212 ...  0.5714469   0.7993826\n",
      "   0.16650563]\n",
      " [ 0.84000546  0.5752897   0.7109888  ...  0.8270366   0.82763046\n",
      "   0.76895165]\n",
      " [ 0.89649624  0.22473212  0.11482399 ...  0.92378896  0.81391823\n",
      "   0.96673614]]\n"
     ]
    }
   ],
   "source": [
    "X_general = np.zeros(shape=(fmri_data.shape[0],fmri_data.shape[1]),dtype=np.float32)\n",
    "for i in range(0,fmri_data.shape[0]):\n",
    "    for j in range(0,fmri_data.shape[1]):\n",
    "        X_general[i][j] = fmri_data[i][j]\n",
    "print(X_general.shape)\n",
    "print(\"features merged.\")\n",
    "X_general[np.isnan(X_general)]=0\n",
    "print(X_general)"
   ]
  },
  {
   "cell_type": "code",
   "execution_count": 3,
   "metadata": {
    "scrolled": true
   },
   "outputs": [
    {
     "name": "stdout",
     "output_type": "stream",
     "text": [
      "(1, 0, 'fMRI')\n",
      "('SFG_R_7_1', 'SFG_L_7_1')\n"
     ]
    }
   ],
   "source": [
    "#name of loaded nodes\n",
    "\n",
    "brain_nodes = json.load(open('./fMRI_DTI_matrix_359_with_inde_inter/node_label_json.txt'))\n",
    "#print(brain_nodes[1])\n",
    "\n",
    "def load_node_file_for_brain_network_viewer():\n",
    "    full_node_file_name = './Node_BNA246.node'\n",
    "    node_info = []\n",
    "    with open(full_node_file_name,'r') as all_node_file:\n",
    "        for each_node in all_node_file:\n",
    "            items = each_node.split('\\t')\n",
    "            one_node_info = {'x': items[0], 'y': items[1], 'z':items[2], 'color': items[3], 'size': items[4], 'label':items[5]}\n",
    "            node_info.append(one_node_info)\n",
    "    return node_info\n",
    "\n",
    "#生成脑连接图所需要的信息,brain_nodes为试验中脑区的学名，node_info为该脑结点的信息\n",
    "def generate_data_for_brain_network_viewer(nodes, edges, brain_nodes, node_info, dti_or_fmri, inde_or_inter, item_limit):\n",
    "    node_file_name = './generated_nodes_' + inde_or_inter + '_' + dti_or_fmri + '_' + item_limit + '.node'\n",
    "    edge_file_name = './generated_edges_' + inde_or_inter + '_' + dti_or_fmri + '_' + item_limit + '.edge'\n",
    "    with open(node_file_name,'w') as node_file:\n",
    "        node_num = len(nodes)\n",
    "        node_count = 0\n",
    "        for each_node in nodes:\n",
    "            #idx = node_info.index(each_node)\n",
    "            node_size = 5 - (node_count / node_num) * 4\n",
    "            node_file.write(node_info[each_node]['x'] + '\\t' + node_info[each_node]['y'] + '\\t' + node_info[each_node]['z'] + '\\t' + node_info[each_node]['color'] + '\\t' + str(node_size) + '\\t' + node_info[each_node]['label'])\n",
    "            node_count += 1\n",
    "    edge_matrix = np.zeros(shape=(len(nodes),len(nodes)))\n",
    "    amount = len(edge_file_name)\n",
    "    count = 0\n",
    "    for each_edge in edges:\n",
    "        weight = 1.8 - count / amount\n",
    "        edge_matrix[each_edge[0]][each_edge[1]] = weight\n",
    "        edge_matrix[each_edge[1]][each_edge[0]] = weight\n",
    "        count += 1\n",
    "    with open(edge_file_name,'w') as edge_file:\n",
    "        for i in range(edge_matrix.shape[0]):\n",
    "            for j in range(edge_matrix.shape[1]):\n",
    "                edge_file.write(str(edge_matrix[i][j]) + '\\t')\n",
    "            edge_file.write('\\n')\n",
    "    print('data for brain network generated.')\n",
    "\n",
    "def find_position_name(position):\n",
    "    return (brain_nodes[position[0]],brain_nodes[position[1]])\n",
    "\n",
    "#给出一个输入，得到其所属于的矩阵位置\n",
    "def FindPosition(M):\n",
    "    #intype = int\n",
    "    #rtype = list[int, int]\n",
    "    flag = \"fMRI\"\n",
    "    if(M>30135):\n",
    "        M -= 30135\n",
    "        flag = \"DTI\"\n",
    "    x = 0\n",
    "    y = 0\n",
    "    Row_FirstNum = 1\n",
    "    while M >= Row_FirstNum:\n",
    "        x += 1\n",
    "        Row_FirstNum = (x*x)/2 + x/2 + 1\n",
    "    x -= 1\n",
    "    Row_FirstNum = (x * x) / 2 + x / 2 + 1\n",
    "    y = int(M-Row_FirstNum)\n",
    "    return (x+1, y,flag)\n",
    "\n",
    "\n",
    "print(FindPosition(1))\n",
    "print(find_position_name(FindPosition(1)))\n",
    "\n",
    "standard_nodes = load_node_file_for_brain_network_viewer()"
   ]
  },
  {
   "cell_type": "code",
   "execution_count": 4,
   "metadata": {},
   "outputs": [],
   "source": [
    "def intersection_feature(section_a, section_b):\n",
    "    inter_section = list(set(section_a) & set(section_b))\n",
    "    print(len(inter_section),'features co-occur')\n",
    "\n",
    "\n",
    "def transform(original_feature, idx_kept):\n",
    "    result = np.zeros((original_feature.shape[0], len(idx_kept)))\n",
    "    for i, each_idx in enumerate(idx_kept):\n",
    "        for j in range(original_feature.shape[0]):\n",
    "            result[j][i] = original_feature[j][each_idx]\n",
    "    return result\n",
    "\n",
    "\n",
    "def coef_fit_transform(coef_info, original_feature, threhold=0.25):\n",
    "    idx_kept = []\n",
    "    count = 0\n",
    "    feature_mask = []\n",
    "    for i, each_coef in enumerate(coef_info):\n",
    "        if each_coef >= threhold:\n",
    "            count += 1\n",
    "            idx_kept.append(i)\n",
    "            feature_mask.append(True)\n",
    "        else:\n",
    "            feature_mask.append(False)\n",
    "    result = transform(original_feature, idx_kept)\n",
    "    print(len(idx_kept),'features selected in this time.')\n",
    "    #intersection_feature(idx_kept, features_number_inde)\n",
    "    return result, feature_mask\n",
    "\n",
    "def r_regression(X, y):\n",
    "    coef = np.zeros((X.shape[1]))\n",
    "    for j in range(X.shape[1]):\n",
    "        coef[j] = scipy.stats.spearmanr(X[:,j], y)[0]\n",
    "    return coef"
   ]
  },
  {
   "cell_type": "code",
   "execution_count": 5,
   "metadata": {
    "scrolled": true
   },
   "outputs": [
    {
     "name": "stdout",
     "output_type": "stream",
     "text": [
      "Prcessing Fold: 2021-04-07 20:52:36\n",
      "998 features selected in this time.\n",
      "998 features selected in this time.\n",
      "Current Performance: MAE= 8.247643441864938 ; MSE=: 97.30664908594035 ; r= SpearmanrResult(correlation=0.362190952222643, pvalue=0.03832886041995385)\n",
      "Prcessing Fold: 2021-04-07 20:52:59\n",
      "736 features selected in this time.\n",
      "736 features selected in this time.\n",
      "Current Performance: MAE= 7.176058566931522 ; MSE=: 72.84733830193088 ; r= SpearmanrResult(correlation=0.4638050888092919, pvalue=0.006554773523575528)\n",
      "Prcessing Fold: 2021-04-07 20:53:20\n",
      "736 features selected in this time.\n",
      "736 features selected in this time.\n",
      "Current Performance: MAE= 6.54172354033499 ; MSE=: 67.95311852701883 ; r= SpearmanrResult(correlation=0.3647171737695587, pvalue=0.03690186901777773)\n",
      "Prcessing Fold: 2021-04-07 20:53:42\n",
      "2488 features selected in this time.\n",
      "2488 features selected in this time.\n",
      "Current Performance: MAE= 9.879833936691284 ; MSE=: 151.6337920295573 ; r= SpearmanrResult(correlation=0.05248673811579289, pvalue=0.7754192032575355)\n",
      "Prcessing Fold: 2021-04-07 20:54:14\n",
      "1536 features selected in this time.\n",
      "1536 features selected in this time.\n",
      "Current Performance: MAE= 9.583423614501953 ; MSE=: 151.76979822630892 ; r= SpearmanrResult(correlation=0.21411586604341074, pvalue=0.2392989712407806)\n",
      "Prcessing Fold: 2021-04-07 20:54:39\n",
      "1892 features selected in this time.\n",
      "1892 features selected in this time.\n",
      "Current Performance: MAE= 7.988290786743164 ; MSE=: 84.77970884689421 ; r= SpearmanrResult(correlation=0.15350746237260168, pvalue=0.4015766459958353)\n",
      "Prcessing Fold: 2021-04-07 20:55:08\n",
      "1530 features selected in this time.\n",
      "1530 features selected in this time.\n",
      "Current Performance: MAE= 6.724982500076294 ; MSE=: 72.38430050272109 ; r= SpearmanrResult(correlation=-0.2536043645668618, pvalue=0.16135034700376683)\n",
      "Prcessing Fold: 2021-04-07 20:55:34\n",
      "622 features selected in this time.\n",
      "622 features selected in this time.\n",
      "Current Performance: MAE= 7.279484748840332 ; MSE=: 95.63583205279792 ; r= SpearmanrResult(correlation=0.6387746538604238, pvalue=8.33558346007717e-05)\n",
      "Prcessing Fold: 2021-04-07 20:55:54\n",
      "584 features selected in this time.\n",
      "584 features selected in this time.\n",
      "Current Performance: MAE= 7.436122894287109 ; MSE=: 79.86655594925833 ; r= SpearmanrResult(correlation=-0.04426495318413767, pvalue=0.8098994685484402)\n",
      "Prcessing Fold: 2021-04-07 20:56:14\n",
      "806 features selected in this time.\n",
      "806 features selected in this time.\n",
      "Current Performance: MAE= 7.523190379142761 ; MSE=: 87.97403923403044 ; r= SpearmanrResult(correlation=0.32290080611515265, pvalue=0.0714568675403333)\n",
      "final MAE= 7.833280392106473 ; MSE=: 96.05864815517509 ; r= SpearmanrResult(correlation=0.17439351862541022, pvalue=0.0016539107613482331)\n",
      "Done at: 2021-04-07 20:56:36\n"
     ]
    }
   ],
   "source": [
    "#Revision: 10-Fold-cross-validation for independent self-construal prediction\n",
    "\n",
    "kf=KFold(n_splits=10,shuffle=False, random_state=321)    # 定义分成几个组\n",
    "inner_cv = KFold(n_splits=10, shuffle=False, random_state=123)\n",
    "nested_predict_inde = []\n",
    "true_value_inde = []\n",
    "feature_coef_inde = []\n",
    "\n",
    "for train_index,test_index in kf.split(X_general):\n",
    "    print(\"Prcessing Fold:\",datetime.datetime.now().strftime(\"%Y-%m-%d %H:%M:%S\"))\n",
    "    #print(\"Train Index:\",train_index,\",Test Index:\",test_index) \n",
    "    X_train,X_test=X_general[train_index],X_general[test_index] #X_features_inde\n",
    "    y_train,y_test=cog_inde[train_index],cog_inde[test_index]\n",
    "    #X_features_inde X_general\n",
    "    \n",
    "    #estimator = Lasso(alpha=100)\n",
    "    #selector = RFE(estimator, n_features_to_select=5000, step=20)\n",
    "    #selector = SelectPercentile(f_regression, percentile=100)\n",
    "    #selected_X_train = selector.fit_transform(X_train, y_train)\n",
    "    #selected_X_test = selector.transform(X_test)\n",
    "    #print(selector.support_)\n",
    "    #mi = mutual_info_regression(X_train, y_train)\n",
    "    #f_test, pval = f_regression(X_train, y_train)\n",
    "    r_test = r_regression(X_train, y_train)\n",
    "    #f_test /= np.max(f_test)\n",
    "    selected_X_train, feature_mask = coef_fit_transform(r_test, X_train, 0.05)\n",
    "    selected_X_test, _ = coef_fit_transform(r_test, X_test, 0.05)\n",
    "    \n",
    "    lr = GridSearchCV(estimator=Lasso(random_state=123456), \n",
    "                       param_grid={\"alpha\": [1, 1e2,3e2,5e2],\n",
    "                                  \"max_iter\": [1000,1500,10000],\n",
    "                                  \"fit_intercept\":[True, False]},\n",
    "                       cv=inner_cv)\n",
    "    rr = GridSearchCV(estimator=Ridge(solver='auto',random_state=123456), \n",
    "                       param_grid={\"alpha\": [1e-3, 1e-2, 1e-1, 1, 1e2,3e2,5e2],\n",
    "                                  \"max_iter\": [300,500,1000,1500,None]},\n",
    "                       cv=inner_cv)\n",
    "    svr = GridSearchCV(estimator=SVR(),\n",
    "                   param_grid={\"C\": [3e-3, 3e-2, 3e-1, 1e0, 1e1, 1e2, 1e3],\n",
    "                               \"kernel\": ['linear','rbf'],\n",
    "                               \"gamma\":[0.2, 0.4, 0.5, 0.6, 1.0]\n",
    "                              },\n",
    "                   cv=inner_cv)\n",
    "    xgb_reg = XGBRegressor(learning_rate=0.05, max_depth=4, n_estimators=600, objective='reg:squarederror',gamma=0.3)\n",
    "    xgb = GridSearchCV(estimator=xgb_reg,\n",
    "                   param_grid={\"learning_rate\": [0.01, 0.015, 0.025, 0.03, 0.05, 0.1],\n",
    "                               \"max_depth\": [3,4,5,6],\n",
    "                               \"n_estimators\":[50, 100, 160, 300,600],\n",
    "                               'objective':['reg:squarederror','reg:gamma'],#,\n",
    "                               'subsample': [0.7,1.0],\n",
    "                              },\n",
    "                   cv=10,refit=True, n_jobs=-1)\n",
    "    xgb_reg.fit(selected_X_train, y_train)\n",
    "    #predicted_y = np.around(xgb.predict(selected_X_test))\n",
    "    predicted_y = xgb_reg.predict(selected_X_test)\n",
    "    temp_coef = xgb_reg.feature_importances_\n",
    "    \n",
    "    coef_in_this_round = np.zeros((len(feature_mask)))\n",
    "    count_used_coef = 0\n",
    "    for i in range(len(feature_mask)):\n",
    "        if feature_mask[i] == True:\n",
    "            coef_in_this_round[i] = temp_coef[count_used_coef]\n",
    "            count_used_coef += 1\n",
    "        else:\n",
    "            pass\n",
    "    feature_coef_inde.append(coef_in_this_round)\n",
    "            \n",
    "    #print(len(predicted_y),\":\",predicted_y)\n",
    "    #print(len(y_test),\":\",y_test)\n",
    "    print('Current Performance: MAE=', mean_absolute_error(y_test,predicted_y), '; MSE=:', mean_squared_error(y_test,predicted_y), '; r=',scipy.stats.spearmanr(y_test, predicted_y))\n",
    "    nested_predict_inde.extend(predicted_y)\n",
    "    true_value_inde.extend(y_test)\n",
    "    \n",
    "    \n",
    "feature_coef_inde = np.array(feature_coef_inde)  \n",
    "print('final MAE=', mean_absolute_error(true_value_inde,nested_predict_inde), '; MSE=:', mean_squared_error(true_value_inde,nested_predict_inde), '; r=',scipy.stats.spearmanr(nested_predict_inde, true_value_inde))\n",
    "print(\"Done at:\",datetime.datetime.now().strftime(\"%Y-%m-%d %H:%M:%S\"))"
   ]
  },
  {
   "cell_type": "code",
   "execution_count": 6,
   "metadata": {
    "scrolled": true
   },
   "outputs": [
    {
     "name": "stdout",
     "output_type": "stream",
     "text": [
      "Prcessing Fold: 2021-04-07 20:56:36\n",
      "13201 features selected in this time.\n",
      "13201 features selected in this time.\n",
      "Current Performance: MAE= 7.12333887273615 ; MSE=: 84.92003555139209 ; r= SpearmanrResult(correlation=0.33548089663695524, pvalue=0.056312533921280945)\n",
      "Prcessing Fold: 2021-04-07 20:58:21\n",
      "8716 features selected in this time.\n",
      "8716 features selected in this time.\n",
      "Current Performance: MAE= 6.142083370324337 ; MSE=: 73.27074123569676 ; r= SpearmanrResult(correlation=0.27367962097843185, pvalue=0.12328221933659872)\n",
      "Prcessing Fold: 2021-04-07 20:59:35\n",
      "11341 features selected in this time.\n",
      "11341 features selected in this time.\n",
      "Current Performance: MAE= 8.116203886089902 ; MSE=: 93.69057769153953 ; r= SpearmanrResult(correlation=0.03469385575955005, pvalue=0.8479977289445868)\n",
      "Prcessing Fold: 2021-04-07 21:01:08\n",
      "10445 features selected in this time.\n",
      "10445 features selected in this time.\n",
      "Current Performance: MAE= 8.22050142288208 ; MSE=: 93.77827792979588 ; r= SpearmanrResult(correlation=0.18338906697747492, pvalue=0.3150486548658181)\n",
      "Prcessing Fold: 2021-04-07 21:02:35\n",
      "6934 features selected in this time.\n",
      "6934 features selected in this time.\n",
      "Current Performance: MAE= 8.734614253044128 ; MSE=: 125.79121799540599 ; r= SpearmanrResult(correlation=0.36453657447311394, pvalue=0.04024007052705033)\n",
      "Prcessing Fold: 2021-04-07 21:03:37\n",
      "6465 features selected in this time.\n",
      "6465 features selected in this time.\n",
      "Current Performance: MAE= 8.022144556045532 ; MSE=: 79.20806750176962 ; r= SpearmanrResult(correlation=0.4210824098130443, pvalue=0.016394020254668944)\n",
      "Prcessing Fold: 2021-04-07 21:04:36\n",
      "9744 features selected in this time.\n",
      "9744 features selected in this time.\n",
      "Current Performance: MAE= 7.255760550498962 ; MSE=: 74.30900703675661 ; r= SpearmanrResult(correlation=0.2302542062366835, pvalue=0.20486593989402901)\n",
      "Prcessing Fold: 2021-04-07 21:06:00\n",
      "10492 features selected in this time.\n",
      "10492 features selected in this time.\n",
      "Current Performance: MAE= 8.170729994773865 ; MSE=: 113.625547533406 ; r= SpearmanrResult(correlation=-0.15524371076297572, pvalue=0.39620832386381355)\n",
      "Prcessing Fold: 2021-04-07 21:07:26\n",
      "11050 features selected in this time.\n",
      "11050 features selected in this time.\n",
      "Current Performance: MAE= 8.05429220199585 ; MSE=: 92.44749678337394 ; r= SpearmanrResult(correlation=0.14722367623897237, pvalue=0.42134848974834027)\n",
      "Prcessing Fold: 2021-04-07 21:08:54\n",
      "10882 features selected in this time.\n",
      "10882 features selected in this time.\n",
      "Current Performance: MAE= 7.7476232051849365 ; MSE=: 104.18982682210299 ; r= SpearmanrResult(correlation=0.1846381486826199, pvalue=0.3117064924368874)\n",
      "final MAE= 7.752863715676701 ; MSE=: 93.43426262872535 ; r= SpearmanrResult(correlation=0.1904201716583564, pvalue=0.0005805659379592088)\n",
      "Done at: 2021-04-07 21:10:21\n"
     ]
    }
   ],
   "source": [
    "#Revision: 10-Fold-cross-validation for interpendent self-construal prediction\n",
    "kf=KFold(n_splits=10,shuffle=False, random_state=321)    # 定义分成几个组\n",
    "inner_cv = KFold(n_splits=10, shuffle=False, random_state=123)\n",
    "nested_predict_inter = []\n",
    "true_value_inter = []\n",
    "feature_coef_inter = []\n",
    "\n",
    "for train_index,test_index in kf.split(X_general):\n",
    "    print(\"Prcessing Fold:\",datetime.datetime.now().strftime(\"%Y-%m-%d %H:%M:%S\"))\n",
    "    #print(\"Train Index:\",train_index,\",Test Index:\",test_index) \n",
    "    X_train,X_test=X_general[train_index],X_general[test_index] #X_features_inde\n",
    "    y_train,y_test=cog_inter[train_index],cog_inter[test_index]\n",
    "    #X_features_inde X_general\n",
    "    \n",
    "    #estimator = Lasso(alpha=100)\n",
    "    #selector = RFE(estimator, n_features_to_select=5000, step=20)\n",
    "    #selector = SelectPercentile(f_regression, percentile=100)\n",
    "    #selected_X_train = selector.fit_transform(X_train, y_train)\n",
    "    #selected_X_test = selector.transform(X_test)\n",
    "    #print(selector.support_)\n",
    "    #mi = mutual_info_regression(X_train, y_train)\n",
    "    #f_test, pval = f_regression(X_train, y_train)\n",
    "    r_test = r_regression(X_train, y_train)\n",
    "    #f_test /= np.max(f_test)\n",
    "    selected_X_train, feature_mask = coef_fit_transform(r_test, X_train, 0.03)\n",
    "    selected_X_test, _ = coef_fit_transform(r_test, X_test, 0.03)\n",
    "    \n",
    "    lr = GridSearchCV(estimator=Lasso(random_state=123456), \n",
    "                       param_grid={\"alpha\": [1, 1e2,3e2,5e2],\n",
    "                                  \"max_iter\": [1000,1500,10000],\n",
    "                                  \"fit_intercept\":[True, False]},\n",
    "                       cv=inner_cv)\n",
    "    rr = GridSearchCV(estimator=Ridge(solver='auto',random_state=123456), \n",
    "                       param_grid={\"alpha\": [1e-3, 1e-2, 1e-1, 1, 1e2,3e2,5e2],\n",
    "                                  \"max_iter\": [300,500,1000,1500,None]},\n",
    "                       cv=inner_cv)\n",
    "    svr = GridSearchCV(estimator=SVR(),\n",
    "                   param_grid={\"C\": [3e-3, 3e-2, 3e-1, 1e0, 1e1, 1e2, 1e3],\n",
    "                               \"kernel\": ['linear','rbf'],\n",
    "                               \"gamma\":[0.2, 0.4, 0.5, 0.6, 1.0]\n",
    "                              },\n",
    "                   cv=inner_cv)\n",
    "    xgb_reg = XGBRegressor(learning_rate=0.05, max_depth=6, n_estimators=1200, objective='reg:gamma')\n",
    "    xgb = GridSearchCV(estimator=xgb_reg,\n",
    "                   param_grid={\"learning_rate\": [0.01, 0.015, 0.025, 0.03, 0.05, 0.1],\n",
    "                               \"max_depth\": [3,4,5,6],\n",
    "                               \"n_estimators\":[50, 100, 160, 300,600],\n",
    "                               'objective':['reg:squarederror','reg:gamma'],#,\n",
    "                               'subsample': [0.7,1.0],\n",
    "                              },\n",
    "                   cv=10,refit=True, n_jobs=-1)\n",
    "    xgb_reg.fit(selected_X_train, y_train)\n",
    "    #predicted_y = np.around(xgb.predict(selected_X_test))\n",
    "    predicted_y = xgb_reg.predict(selected_X_test)\n",
    "    temp_coef = xgb_reg.feature_importances_\n",
    "    \n",
    "    coef_in_this_round = np.zeros((len(feature_mask)))\n",
    "    count_used_coef = 0\n",
    "    for i in range(len(feature_mask)):\n",
    "        if feature_mask[i] == True:\n",
    "            coef_in_this_round[i] = temp_coef[count_used_coef]\n",
    "            count_used_coef += 1\n",
    "        else:\n",
    "            pass\n",
    "    feature_coef_inter.append(coef_in_this_round)\n",
    "    \n",
    "    #print(len(predicted_y),\":\",predicted_y)\n",
    "    #print(len(y_test),\":\",y_test)\n",
    "    print('Current Performance: MAE=', mean_absolute_error(y_test,predicted_y), '; MSE=:', mean_squared_error(y_test,predicted_y), '; r=',scipy.stats.spearmanr(y_test, predicted_y))\n",
    "    nested_predict_inter.extend(predicted_y)\n",
    "    true_value_inter.extend(y_test)\n",
    "    \n",
    "    \n",
    "feature_coef_inter = np.array(feature_coef_inter)  \n",
    "print('final MAE=', mean_absolute_error(true_value_inter,nested_predict_inter), '; MSE=:', mean_squared_error(true_value_inter,nested_predict_inter), '; r=',scipy.stats.spearmanr(nested_predict_inter, true_value_inter))\n",
    "print(\"Done at:\",datetime.datetime.now().strftime(\"%Y-%m-%d %H:%M:%S\"))"
   ]
  },
  {
   "cell_type": "markdown",
   "metadata": {},
   "source": [
    "## Analysis on prediction and model outputted coefficents"
   ]
  },
  {
   "cell_type": "markdown",
   "metadata": {},
   "source": [
    "### Correlation map"
   ]
  },
  {
   "cell_type": "code",
   "execution_count": 8,
   "metadata": {},
   "outputs": [
    {
     "data": {
      "text/plain": [
       "<Figure size 1152x1152 with 0 Axes>"
      ]
     },
     "metadata": {},
     "output_type": "display_data"
    },
    {
     "data": {
      "image/png": "[encoded data removed]",
      "text/plain": [
       "<Figure size 432x432 with 3 Axes>"
      ]
     },
     "metadata": {},
     "output_type": "display_data"
    }
   ],
   "source": [
    "%matplotlib inline\n",
    "sns.set(style=\"white\", color_codes=True, font_scale=1.5)\n",
    "\n",
    "inde_plot_results = {'Predicted values': nested_predict_inde, 'Actural values': true_value_inde}\n",
    "inde_plot_results = pd.DataFrame(inde_plot_results)\n",
    "\n",
    "plt.figure(figsize=(16,16))\n",
    "g = sns.jointplot(\"Actural values\", \"Predicted values\", data=inde_plot_results, kind=\"reg\")\n",
    "plt.savefig(\"subplot_inde.png\",dpi=300)\n",
    "plt.show()"
   ]
  },
  {
   "cell_type": "code",
   "execution_count": 9,
   "metadata": {},
   "outputs": [
    {
     "data": {
      "text/plain": [
       "<Figure size 1152x1152 with 0 Axes>"
      ]
     },
     "metadata": {},
     "output_type": "display_data"
    },
    {
     "data": {
      "image/png": "[encoded data removed]",
      "text/plain": [
       "<Figure size 432x432 with 3 Axes>"
      ]
     },
     "metadata": {},
     "output_type": "display_data"
    }
   ],
   "source": [
    "sns.set(style=\"white\", color_codes=True, font_scale=1.5)\n",
    "\n",
    "inter_plot_results = {'Predicted values': nested_predict_inter, 'Actural values': true_value_inter}\n",
    "inter_plot_results = pd.DataFrame(inter_plot_results)\n",
    "\n",
    "plt.figure(figsize=(16,16))\n",
    "g = sns.jointplot(\"Actural values\", \"Predicted values\",data=inter_plot_results, kind=\"reg\", color = 'darkorange')\n",
    "plt.savefig(\"subplot_inter.png\",dpi=300)\n",
    "plt.show()"
   ]
  },
  {
   "cell_type": "markdown",
   "metadata": {},
   "source": [
    "### Importance Analysis on Connections"
   ]
  },
  {
   "cell_type": "code",
   "execution_count": 10,
   "metadata": {},
   "outputs": [],
   "source": [
    "def find_top_k_connections(coef_vector, brain_nodes, standard_nodes, SC_type, top_k = 10):\n",
    "    nodes_id_for_plot = []\n",
    "    edges_pair_for_plot = []\n",
    "    link_pairs_with_names = []\n",
    "    link_pairs = []\n",
    "    count_left = 0\n",
    "    count_right = 0\n",
    "    count_cross = 0\n",
    "    top_k_idx=np.abs(coef_vector).argsort()[::-1][0:top_k]\n",
    "    if top_k == 20:\n",
    "        print(\"##,feature_idx,  original_idx,        position,         coef,       area\")\n",
    "    for counter, each_idx in enumerate(top_k_idx):\n",
    "        if top_k == 20:\n",
    "            print(counter, \",\", each_idx,\",\", each_idx, \n",
    "                  ',', FindPosition(each_idx+1),',', \n",
    "                  coef_vector[each_idx], find_position_name(FindPosition(each_idx+1)))\n",
    "        \n",
    "        one_link = FindPosition(each_idx+1)\n",
    "        link_pairs.append((one_link[0], one_link[1], coef_vector[each_idx]))\n",
    "        node_id_temp = [-1,-1]\n",
    "        \n",
    "        for j in range(0,2):\n",
    "            if one_link[j] not in nodes_id_for_plot:\n",
    "                nodes_id_for_plot.append(one_link[j])\n",
    "            else:\n",
    "                pass\n",
    "            node_id_temp[j] = nodes_id_for_plot.index(one_link[j])\n",
    "        edges_pair_for_plot.append((node_id_temp[0],node_id_temp[1]))\n",
    "        \n",
    "        two_areas = find_position_name(FindPosition(each_idx+1))\n",
    "        link_pairs_with_names.append((two_areas[0], two_areas[1], each_idx))\n",
    "        area_position = ['1', '1']\n",
    "        area_position[0] = two_areas[0].split('_')[1]\n",
    "        area_position[1] = two_areas[1].split('_')[1]\n",
    "        if area_position[0] == 'L' and area_position[1] == 'L':\n",
    "            count_left += 1\n",
    "        elif area_position[0] == 'R' and area_position[1] == 'R':\n",
    "            count_right += 1\n",
    "        elif area_position[0] == 'L' and area_position[1] == 'R':\n",
    "            count_cross += 1\n",
    "        elif area_position[0] == 'R' and area_position[1] == 'L':\n",
    "            count_cross += 1\n",
    "        else:\n",
    "            print('error in finding LR.')\n",
    "        \n",
    "    generate_data_for_brain_network_viewer(nodes_id_for_plot,edges_pair_for_plot,brain_nodes,\n",
    "                                           standard_nodes, 'fMRI', SC_type, str(top_k))\n",
    "    print(\"node and link files for \", SC_type, \"with top \", top_k, 'records is saved.')\n",
    "    print(\"[Counter Info] left vs. cross vs. right:\", count_left, ':', count_cross, ':', count_right)\n",
    "    return link_pairs_with_names, link_pairs\n",
    "        "
   ]
  },
  {
   "cell_type": "code",
   "execution_count": 11,
   "metadata": {
    "scrolled": true
   },
   "outputs": [
    {
     "name": "stdout",
     "output_type": "stream",
     "text": [
      "10\n",
      "data for brain network generated.\n",
      "node and link files for  inde with top  10 records is saved.\n",
      "[Counter Info] left vs. cross vs. right: 1 : 4 : 5\n",
      "20\n",
      "##,feature_idx,  original_idx,        position,         coef,       area\n",
      "0 , 19819 , 19819 , (199, 118, 'fMRI') , 0.3698336197824231 ('LOcC_R_4_1', 'PhG_L_6_6')\n",
      "1 , 11988 , 11988 , (155, 53, 'fMRI') , 0.34199361693237934 ('PoG_R_4_1', 'PrG_R_6_1')\n",
      "2 , 27991 , 27991 , (237, 25, 'fMRI') , 0.3399260994872081 ('Tha_R_8_4', 'MFG_R_7_6')\n",
      "3 , 21312 , 21312 , (206, 197, 'fMRI') , 0.3270128087902499 ('LOcC_L_2_1', 'MVOcC_R_5_5')\n",
      "4 , 12650 , 12650 , (159, 89, 'fMRI') , 0.2899659798460933 ('PoG_R_4_3', 'ITG_R_7_1')\n",
      "5 , 19621 , 19621 , (198, 118, 'fMRI') , 0.2637571271911482 ('LOcC_L_4_1', 'PhG_L_6_6')\n",
      "6 , 5031 , 5031 , (100, 81, 'fMRI') , 0.26339471439638307 ('ITG_L_7_7', 'MTG_R_4_1')\n",
      "7 , 20577 , 20577 , (203, 74, 'fMRI') , 0.23980979808475608 ('LOcC_R_4_3', 'STG_L_6_4')\n",
      "8 , 14241 , 14241 , (169, 45, 'fMRI') , 0.2384135094166921 ('INS_R_6_4', 'OrG_R_6_3')\n",
      "9 , 16724 , 16724 , (183, 71, 'fMRI') , 0.22516017931592786 ('CG_R_7_5', 'STG_R_6_2')\n",
      "10 , 29061 , 29061 , (241, 141, 'fMRI') , 0.22394742527714614 ('Tha_R_8_6', 'IPL_R_6_4')\n",
      "11 , 28083 , 28083 , (237, 117, 'fMRI') , 0.22135393357692257 ('Tha_R_8_4', 'PhG_R_6_5')\n",
      "12 , 14271 , 14271 , (169, 75, 'fMRI') , 0.22110112254673445 ('INS_R_6_4', 'STG_R_6_4')\n",
      "13 , 25373 , 25373 , (225, 173, 'fMRI') , 0.2050813564557612 ('BG_R_6_4', 'INS_R_6_6')\n",
      "14 , 25592 , 25592 , (226, 167, 'fMRI') , 0.1995000017532485 ('BG_L_6_5', 'INS_R_6_3')\n",
      "15 , 7229 , 7229 , (120, 89, 'fMRI') , 0.1969730099214043 ('pSTS_L_2_1', 'ITG_R_7_1')\n",
      "16 , 23100 , 23100 , (215, 95, 'fMRI') , 0.19525755439866863 ('Hipp_R_2_1', 'ITG_R_7_4')\n",
      "17 , 19898 , 19898 , (199, 197, 'fMRI') , 0.19447534860300367 ('LOcC_R_4_1', 'MVOcC_R_5_5')\n",
      "18 , 12435 , 12435 , (158, 32, 'fMRI') , 0.19221557938302739 ('PoG_L_4_3', 'IFG_L_6_3')\n",
      "19 , 2846 , 2846 , (75, 71, 'fMRI') , 0.19199340008141189 ('STG_R_6_4', 'STG_R_6_2')\n",
      "data for brain network generated.\n",
      "node and link files for  inde with top  20 records is saved.\n",
      "[Counter Info] left vs. cross vs. right: 2 : 6 : 12\n",
      "30\n",
      "data for brain network generated.\n",
      "node and link files for  inde with top  30 records is saved.\n",
      "[Counter Info] left vs. cross vs. right: 2 : 10 : 18\n",
      "40\n",
      "data for brain network generated.\n",
      "node and link files for  inde with top  40 records is saved.\n",
      "[Counter Info] left vs. cross vs. right: 4 : 12 : 24\n",
      "50\n",
      "data for brain network generated.\n",
      "node and link files for  inde with top  50 records is saved.\n",
      "[Counter Info] left vs. cross vs. right: 6 : 13 : 31\n"
     ]
    }
   ],
   "source": [
    "coefs_inde = np.zeros((feature_coef_inde.shape[0], feature_coef_inde.shape[1]))\n",
    "coef_inde_mean = np.zeros(feature_coef_inde.shape[1])\n",
    "\n",
    "coefs_inde_source = np.zeros((11, feature_coef_inde.shape[1]))\n",
    "links_inde = []\n",
    "\n",
    "for i in range(0, feature_coef_inde.shape[0]):\n",
    "    temp_array = []\n",
    "    for each_number in feature_coef_inde[i]:\n",
    "        if each_number != 0:\n",
    "            temp_array.append(each_number)\n",
    "    temp_array = np.array(temp_array)\n",
    "    min_temp = np.min(temp_array)\n",
    "    max_temp =np.max(temp_array)\n",
    "    #print('max:',max_temp)\n",
    "    #print('min:',min_temp)\n",
    "    # feature_coef_inde\n",
    "    coefs_inde[i] = (feature_coef_inde[i] - min_temp) / (max_temp - min_temp)\n",
    "    # coefs_inde_source[count] = np.array(clf.coef_)\n",
    "#print(coefs_inde)\n",
    "\n",
    "for each_dimension in range(coefs_inde.shape[1]):\n",
    "    coef_inde_mean[each_dimension] = np.mean(coefs_inde[:,each_dimension])\n",
    "    #features_number_inde = \n",
    "#print(len(features_number_inde))\n",
    "#print(coef_inde_mean.shape)\n",
    "connections_inde = []\n",
    "for top_k in [10,20,30,40,50]:\n",
    "    print(top_k)\n",
    "    names, pairs = find_top_k_connections(coef_inde_mean, brain_nodes, standard_nodes, 'inde', top_k)\n",
    "    connections_inde.append(names)\n",
    "    links_inde.append(pairs)"
   ]
  },
  {
   "cell_type": "code",
   "execution_count": 12,
   "metadata": {
    "scrolled": true
   },
   "outputs": [
    {
     "name": "stdout",
     "output_type": "stream",
     "text": [
      "10\n",
      "data for brain network generated.\n",
      "node and link files for  inter with top  10 records is saved.\n",
      "[Counter Info] left vs. cross vs. right: 6 : 3 : 1\n",
      "20\n",
      "##,feature_idx,  original_idx,        position,         coef,       area\n",
      "0 , 19615 , 19615 , (198, 112, 'fMRI') , 0.6039022602865758 ('LOcC_L_4_1', 'PhG_L_6_3')\n",
      "1 , 27357 , 27357 , (234, 96, 'fMRI') , 0.5201288134626525 ('Tha_L_8_3', 'ITG_L_7_5')\n",
      "2 , 22239 , 22239 , (211, 84, 'fMRI') , 0.44863338309269807 ('Amyg_R_2_1', 'MTG_L_4_3')\n",
      "3 , 6712 , 6712 , (116, 42, 'fMRI') , 0.4224261801482518 ('PhG_L_6_5', 'OrG_L_6_2')\n",
      "4 , 6782 , 6782 , (116, 112, 'fMRI') , 0.4030976636376664 ('PhG_L_6_5', 'PhG_L_6_3')\n",
      "5 , 29339 , 29339 , (242, 178, 'fMRI') , 0.38603874133065313 ('Tha_L_8_7', 'CG_L_7_3')\n",
      "6 , 25677 , 25677 , (227, 26, 'fMRI') , 0.3705780898030105 ('BG_R_6_5', 'MFG_L_7_7')\n",
      "7 , 28654 , 28654 , (239, 213, 'fMRI') , 0.3699749694898212 ('Tha_R_8_5', 'Amyg_R_2_2')\n",
      "8 , 28050 , 28050 , (237, 84, 'fMRI') , 0.3641224977107938 ('Tha_R_8_4', 'MTG_L_4_3')\n",
      "9 , 16485 , 16485 , (182, 14, 'fMRI') , 0.3519887346957302 ('CG_L_7_5', 'MFG_L_7_1')\n",
      "10 , 18382 , 18382 , (192, 46, 'fMRI') , 0.3418372304257645 ('MVOcC_L_5_3', 'OrG_L_6_4')\n",
      "11 , 24296 , 24296 , (220, 206, 'fMRI') , 0.33570347407452245 ('BG_L_6_2', 'LOcC_L_2_1')\n",
      "12 , 22777 , 22777 , (213, 199, 'fMRI') , 0.3280460902779655 ('Amyg_R_2_2', 'LOcC_R_4_1')\n",
      "13 , 24278 , 24278 , (220, 188, 'fMRI') , 0.3277740667720634 ('BG_L_6_2', 'MVOcC_L_5_1')\n",
      "14 , 5824 , 5824 , (108, 46, 'fMRI') , 0.30321373302006416 ('PhG_L_6_1', 'OrG_L_6_4')\n",
      "15 , 26463 , 26463 , (230, 128, 'fMRI') , 0.29898560362273463 ('Tha_L_8_1', 'SPL_L_5_3')\n",
      "16 , 22273 , 22273 , (211, 118, 'fMRI') , 0.29444525377182607 ('Amyg_R_2_1', 'PhG_L_6_6')\n",
      "17 , 26018 , 26018 , (228, 140, 'fMRI') , 0.2749036663780918 ('BG_L_6_6', 'IPL_L_6_4')\n",
      "18 , 26595 , 26595 , (231, 30, 'fMRI') , 0.26679787031851876 ('Tha_R_8_1', 'IFG_L_6_2')\n",
      "19 , 6719 , 6719 , (116, 49, 'fMRI') , 0.2651956446203878 ('PhG_L_6_5', 'OrG_R_6_5')\n",
      "data for brain network generated.\n",
      "node and link files for  inter with top  20 records is saved.\n",
      "[Counter Info] left vs. cross vs. right: 12 : 6 : 2\n",
      "30\n",
      "data for brain network generated.\n",
      "node and link files for  inter with top  30 records is saved.\n",
      "[Counter Info] left vs. cross vs. right: 15 : 11 : 4\n",
      "40\n",
      "data for brain network generated.\n",
      "node and link files for  inter with top  40 records is saved.\n",
      "[Counter Info] left vs. cross vs. right: 18 : 16 : 6\n",
      "50\n",
      "data for brain network generated.\n",
      "node and link files for  inter with top  50 records is saved.\n",
      "[Counter Info] left vs. cross vs. right: 22 : 21 : 7\n"
     ]
    }
   ],
   "source": [
    "coefs_inter = np.zeros((feature_coef_inter.shape[0], feature_coef_inter.shape[1]))\n",
    "coef_inter_mean = np.zeros(feature_coef_inter.shape[1])\n",
    "\n",
    "coefs_inter_source = np.zeros((11, feature_coef_inter.shape[1]))\n",
    "links_inter = []\n",
    "\n",
    "for i in range(0, feature_coef_inter.shape[0]):\n",
    "    temp_array = []\n",
    "    for each_number in feature_coef_inter[i]:\n",
    "        if each_number != 0:\n",
    "            temp_array.append(each_number)\n",
    "    temp_array = np.array(temp_array)\n",
    "    min_temp = np.min(temp_array)\n",
    "    max_temp =np.max(temp_array)\n",
    "    #print('max:',max_temp)\n",
    "    #print('min:',min_temp)\n",
    "    coefs_inter[i] = (feature_coef_inter[i] - min_temp) / (max_temp - min_temp)\n",
    "    # coefs_inter_source[count] = np.array(clf.coef_)\n",
    "#print(coefs_inter)\n",
    "\n",
    "for each_dimension in range(coefs_inde.shape[1]):\n",
    "    coef_inter_mean[each_dimension] = np.mean(coefs_inter[:,each_dimension])\n",
    "#print(len(features_number_inter))\n",
    "#print(coef_inter_mean.shape)\n",
    "connections_inter = []\n",
    "for top_k in [10,20,30,40,50]:\n",
    "    print(top_k)\n",
    "    names, pairs = find_top_k_connections(coef_inter_mean, brain_nodes, standard_nodes, 'inter', top_k)\n",
    "    connections_inter.append(names)\n",
    "    links_inter.append(pairs)"
   ]
  },
  {
   "cell_type": "markdown",
   "metadata": {},
   "source": [
    "### Coef Map"
   ]
  },
  {
   "cell_type": "code",
   "execution_count": 13,
   "metadata": {},
   "outputs": [
    {
     "name": "stderr",
     "output_type": "stream",
     "text": [
      "c:\\programdata\\anaconda3\\lib\\site-packages\\h5py\\__init__.py:36: FutureWarning: Conversion of the second argument of issubdtype from `float` to `np.floating` is deprecated. In future, it will be treated as `np.float64 == np.dtype(float).type`.\n",
      "  from ._conv import register_converters as _register_converters\n"
     ]
    }
   ],
   "source": [
    "import nibabel as nib\n",
    "import json\n",
    "import time\n",
    "\n",
    "def load_template_to_memory(dir_source, start_roi=1, end_roi=246):\n",
    "    roi_templates = []\n",
    "    for i in range(start_roi, end_roi+1):\n",
    "        loaded_nii = nib.load(dir_source+str(i) + '.nii.gz')\n",
    "        # print(loaded_nii.affine)\n",
    "        image_data = loaded_nii.get_data()\n",
    "        roi_templates.append(image_data / np.max(image_data))\n",
    "    print(len(roi_templates),\" templates are loaded into the memeory.\")\n",
    "    return roi_templates\n",
    "\n",
    "\n",
    "def merge_nii_plus(nii_source, nii_target, weight):\n",
    "    #nii_source * weight + nii_target -> nii_target\n",
    "    if nii_source.shape != nii_target.shape:\n",
    "        print(\"shapes are not same!\")\n",
    "        return nii_target\n",
    "    result = nii_source / np.max(nii_source) * weight + nii_target\n",
    "    return result"
   ]
  },
  {
   "cell_type": "code",
   "execution_count": 14,
   "metadata": {
    "scrolled": true
   },
   "outputs": [
    {
     "name": "stdout",
     "output_type": "stream",
     "text": [
      "246  templates are loaded into the memeory.\n"
     ]
    }
   ],
   "source": [
    "dir_roi = './atlas/PM/'\n",
    "roi_templates = load_template_to_memory(dir_roi)"
   ]
  },
  {
   "cell_type": "code",
   "execution_count": 15,
   "metadata": {},
   "outputs": [
    {
     "name": "stdout",
     "output_type": "stream",
     "text": [
      "[(199, 118, 0.3698336197824231), (155, 53, 0.34199361693237934), (237, 25, 0.3399260994872081), (206, 197, 0.3270128087902499), (159, 89, 0.2899659798460933), (198, 118, 0.2637571271911482), (100, 81, 0.26339471439638307), (203, 74, 0.23980979808475608), (169, 45, 0.2384135094166921), (183, 71, 0.22516017931592786), (241, 141, 0.22394742527714614), (237, 117, 0.22135393357692257), (169, 75, 0.22110112254673445), (225, 173, 0.2050813564557612), (226, 167, 0.1995000017532485), (120, 89, 0.1969730099214043), (215, 95, 0.19525755439866863), (199, 197, 0.19447534860300367), (158, 32, 0.19221557938302739), (75, 71, 0.19199340008141189), (145, 71, 0.19180152371459078), (182, 71, 0.18804953325823592), (165, 89, 0.18335796169969493), (89, 71, 0.1830563035543718), (171, 93, 0.1817258006729935), (243, 140, 0.18074532079925706), (112, 97, 0.17934583061438208), (237, 7, 0.1793457233740933), (89, 51, 0.1788898201716303), (100, 27, 0.1767563014765567), (213, 89, 0.17455797131229728), (116, 46, 0.17385527396858297), (96, 49, 0.1713002227256787), (185, 89, 0.1711736535203944), (171, 145, 0.17079714449314837), (169, 145, 0.17011304087361567), (91, 46, 0.16861269038559434), (206, 118, 0.16714939240321916), (217, 81, 0.16705311924507446), (213, 95, 0.16602201197328847), (215, 111, 0.1636243056054663), (125, 71, 0.16360470023419754), (198, 112, 0.16119414525950693), (220, 210, 0.1603841253241428), (165, 163, 0.16018763309248124), (211, 95, 0.15990262918077788), (157, 145, 0.15953303297804472), (167, 95, 0.15824380602610555), (185, 103, 0.15754792402317064), (169, 104, 0.15565832392478546)]\n",
      "2021-04-07 21:10:42\n",
      "50 records in total.\n",
      "done.\n",
      "2021-04-07 21:10:45\n"
     ]
    }
   ],
   "source": [
    "target_dir = './'\n",
    "affine = nib.load('./atlas/test.nii.gz').affine\n",
    "truples = links_inde[-1]\n",
    "\n",
    "print(truples)\n",
    "\n",
    "print(time.strftime('%Y-%m-%d %H:%M:%S',time.localtime(time.time()))) \n",
    "nii = np.zeros(shape=(145, 173, 145))\n",
    "count = 0\n",
    "print(len(truples), 'records in total.')\n",
    "for each_truple in truples:\n",
    "    count += 1\n",
    "    if count % 100 == 0:\n",
    "        print('process:', count)\n",
    "    nii = merge_nii_plus(roi_templates[each_truple[0]], nii, each_truple[2])\n",
    "    nii = merge_nii_plus(roi_templates[each_truple[1]], nii, each_truple[2])\n",
    "    \n",
    "new_image = nib.Nifti1Image(nii, affine)\n",
    "nib.save(new_image, target_dir + 'inde_coef_map.nii.gz')\n",
    "#selected_dict\n",
    "print('done.')\n",
    "print(time.strftime('%Y-%m-%d %H:%M:%S',time.localtime(time.time()))) "
   ]
  },
  {
   "cell_type": "code",
   "execution_count": 16,
   "metadata": {},
   "outputs": [
    {
     "name": "stdout",
     "output_type": "stream",
     "text": [
      "2021-04-07 21:10:45\n",
      "50 records in total.\n",
      "done.\n",
      "2021-04-07 21:10:49\n"
     ]
    }
   ],
   "source": [
    "target_dir = './'\n",
    "affine = nib.load('./atlas/test.nii.gz').affine\n",
    "truples = links_inter[-1]\n",
    "\n",
    "#print(truples)\n",
    "\n",
    "print(time.strftime('%Y-%m-%d %H:%M:%S',time.localtime(time.time()))) \n",
    "nii = np.zeros(shape=(145, 173, 145))\n",
    "count = 0\n",
    "print(len(truples), 'records in total.')\n",
    "for each_truple in truples:\n",
    "    count += 1\n",
    "    if count % 100 == 0:\n",
    "        print('process:', count)\n",
    "    nii = merge_nii_plus(roi_templates[each_truple[0]], nii, each_truple[2])\n",
    "    nii = merge_nii_plus(roi_templates[each_truple[1]], nii, each_truple[2])\n",
    "    \n",
    "new_image = nib.Nifti1Image(nii, affine)\n",
    "nib.save(new_image, target_dir + 'inter_coef_map.nii.gz')\n",
    "#selected_dict\n",
    "print('done.')\n",
    "print(time.strftime('%Y-%m-%d %H:%M:%S',time.localtime(time.time()))) "
   ]
  },
  {
   "cell_type": "code",
   "execution_count": 17,
   "metadata": {},
   "outputs": [
    {
     "name": "stdout",
     "output_type": "stream",
     "text": [
      "done.\n"
     ]
    }
   ],
   "source": [
    "import scipy.io\n",
    "\n",
    "inde_for_chrod = np.zeros(shape=(246,246))\n",
    "inter_for_chrod = np.zeros(shape=(246,246))\n",
    "\n",
    "for each_link in links_inde[1]:\n",
    "    inde_for_chrod[each_link[0]-1][each_link[1]-1] = each_link[2]\n",
    "    inde_for_chrod[each_link[1]-1][each_link[0]-1] = each_link[2]\n",
    "\n",
    "for each_link in links_inter[1]:\n",
    "    inter_for_chrod[each_link[0]-1][each_link[1]-1] = each_link[2]\n",
    "    inter_for_chrod[each_link[1]-1][each_link[0]-1] = each_link[2]\n",
    "\n",
    "scipy.io.savemat('./XGBoost_coef_for_chrod_inde.mat', mdict={'Ridge_inde': np.abs(inde_for_chrod)})\n",
    "scipy.io.savemat('./XGBoost_coef_for_chrod_inter.mat', mdict={'Ridge_inter': np.abs(inter_for_chrod)})   \n",
    "print('done.')"
   ]
  },
  {
   "cell_type": "markdown",
   "metadata": {},
   "source": [
    "### Save data and more statistics"
   ]
  },
  {
   "cell_type": "code",
   "execution_count": 20,
   "metadata": {},
   "outputs": [],
   "source": [
    "pickle.dump(nested_predict_inde, open('nested_predicted_values_inde_dynamic.pkl', 'wb'))\n",
    "pickle.dump(nested_predict_inter, open('nested_predicted_values_inter_dynamic.pkl', 'wb'))"
   ]
  },
  {
   "cell_type": "code",
   "execution_count": 22,
   "metadata": {},
   "outputs": [
    {
     "name": "stdout",
     "output_type": "stream",
     "text": [
      "Top 10 Chi-Square: 1.3333333333333333 0.5134171190325922\n",
      "Top 20 Chi-Square: 11.352564102564102 0.003426273500952833\n",
      "Top 30 Chi-Square: 51.04242424242425 8.246665977411885e-12\n",
      "Top 40 Chi-Square: 107.88333333333333 3.74482754005967e-24\n"
     ]
    }
   ],
   "source": [
    "from scipy.stats import chisquare\n",
    "import numpy as np\n",
    "inde_top_count = np.array([2, 6, 2])\n",
    "inter_top_count = np.array([3, 6, 1])\n",
    "chisquare_value, pvalue = chisquare(inde_top_count, inter_top_count)\n",
    "print(\"Top 10 Chi-Square:\", chisquare_value, pvalue)\n",
    "\n",
    "inde_top_count = np.array([5, 7, 8])\n",
    "inter_top_count = np.array([4, 13, 3])\n",
    "chisquare_value, pvalue = chisquare(inde_top_count, inter_top_count)\n",
    "print(\"Top 20 Chi-Square:\", chisquare_value, pvalue)\n",
    "\n",
    "inde_top_count = np.array([8, 8, 14])\n",
    "inter_top_count = np.array([5, 22, 3])\n",
    "chisquare_value, pvalue = chisquare(inde_top_count, inter_top_count)\n",
    "print(\"Top 30 Chi-Square:\", chisquare_value, pvalue)\n",
    "\n",
    "inde_top_count = np.array([9, 8, 23])\n",
    "inter_top_count = np.array([6, 30, 4])\n",
    "chisquare_value, pvalue = chisquare(inde_top_count, inter_top_count)\n",
    "print(\"Top 40 Chi-Square:\", chisquare_value, pvalue)"
   ]
  },
  {
   "cell_type": "code",
   "execution_count": null,
   "metadata": {},
   "outputs": [],
   "source": []
  }
 ],
 "metadata": {
  "kernelspec": {
   "display_name": "Python [default]",
   "language": "python",
   "name": "python3"
  },
  "language_info": {
   "codemirror_mode": {
    "name": "ipython",
    "version": 3
   },
   "file_extension": ".py",
   "mimetype": "text/x-python",
   "name": "python",
   "nbconvert_exporter": "python",
   "pygments_lexer": "ipython3",
   "version": "3.6.4"
  }
 },
 "nbformat": 4,
 "nbformat_minor": 2
}
